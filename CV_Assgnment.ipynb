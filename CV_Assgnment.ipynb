{
  "cells": [
    {
      "cell_type": "markdown",
      "metadata": {
        "id": "view-in-github",
        "colab_type": "text"
      },
      "source": [
        "<a href=\"https://colab.research.google.com/github/Saransh-Bhatnagar/Resume_Classification/blob/main/CV_Assgnment.ipynb\" target=\"_parent\"><img src=\"https://colab.research.google.com/assets/colab-badge.svg\" alt=\"Open In Colab\"/></a>"
      ]
    },
    {
      "cell_type": "code",
      "execution_count": 1,
      "metadata": {
        "id": "YqUaFFg19Y8A"
      },
      "outputs": [],
      "source": [
        "import tensorflow as tf\n",
        "import matplotlib.pyplot as plt\n",
        "from PIL import Image\n",
        "import os\n",
        "import numpy as np\n",
        "import cv2\n",
        "\n",
        "import random\n",
        "\n",
        "from sklearn.model_selection import train_test_split\n"
      ]
    },
    {
      "cell_type": "code",
      "source": [
        "!mkdir resume\n",
        "!mkdir ext"
      ],
      "metadata": {
        "id": "nHi-Ffh74Civ"
      },
      "execution_count": 2,
      "outputs": []
    },
    {
      "cell_type": "code",
      "execution_count": 3,
      "metadata": {
        "id": "xZwlDsta-LAI",
        "colab": {
          "base_uri": "https://localhost:8080/"
        },
        "outputId": "794ae138-afbc-4c4f-a745-db469af4469f"
      },
      "outputs": [
        {
          "output_type": "stream",
          "name": "stdout",
          "text": [
            "Downloading data from https://www.cs.toronto.edu/~kriz/cifar-10-python.tar.gz\n",
            "170498071/170498071 [==============================] - 6s 0us/step\n"
          ]
        }
      ],
      "source": [
        "(train_ds, _), (_, _) = tf.keras.datasets.cifar10.load_data()\n",
        "\n",
        "# Get 60 random images\n",
        "random_indices = tf.random.uniform((60,), minval=0, maxval=train_ds.shape[0], dtype=tf.int32)\n",
        "random_images = train_ds[random_indices]"
      ]
    },
    {
      "cell_type": "code",
      "execution_count": 4,
      "metadata": {
        "colab": {
          "base_uri": "https://localhost:8080/"
        },
        "id": "Dzwb43T0_peP",
        "outputId": "6bbf958b-84f3-4ec6-a63e-084f96ddb68e"
      },
      "outputs": [
        {
          "output_type": "execute_result",
          "data": {
            "text/plain": [
              "(60, 32, 32, 3)"
            ]
          },
          "metadata": {},
          "execution_count": 4
        }
      ],
      "source": [
        "random_images.shape"
      ]
    },
    {
      "cell_type": "code",
      "execution_count": 5,
      "metadata": {
        "id": "WGwE3Ahq-bpM"
      },
      "outputs": [],
      "source": [
        "directory_path = '/content/ext'\n",
        "\n",
        "extra = []  # List to store image arrays\n",
        "\n",
        "# Iterate through the directory\n",
        "for filename in os.listdir(directory_path):\n",
        "    if filename.endswith(\".jpg\") or filename.endswith(\".png\"):\n",
        "        img_path = os.path.join(directory_path, filename)\n",
        "        img = Image.open(img_path)\n",
        "        img_array = np.array(img)\n",
        "        extra.append(img_array)"
      ]
    },
    {
      "cell_type": "code",
      "execution_count": 6,
      "metadata": {
        "id": "njrmzncVAz-a"
      },
      "outputs": [],
      "source": [
        "resized_images = []\n",
        "\n",
        "# Resizing to match the required shape (32x32x3)\n",
        "for img in extra:\n",
        "    # Resize each image to a common shape (e.g., 32x32x3)\n",
        "    resized_img = cv2.resize(img, (32, 32))\n",
        "    resized_images.append(resized_img)\n",
        "\n",
        "# Convert the list of resized images to a NumPy array\n",
        "rextra = np.array(resized_images)"
      ]
    },
    {
      "cell_type": "code",
      "execution_count": 7,
      "metadata": {
        "id": "vRNZ5PUt-1kC"
      },
      "outputs": [],
      "source": [
        "random_images = np.concatenate((random_images,rextra), axis=0)"
      ]
    },
    {
      "cell_type": "code",
      "execution_count": 8,
      "metadata": {
        "colab": {
          "base_uri": "https://localhost:8080/"
        },
        "id": "_ybFM6wD_0QQ",
        "outputId": "2be39fbb-0f03-46ad-fbea-08036061178a"
      },
      "outputs": [
        {
          "output_type": "execute_result",
          "data": {
            "text/plain": [
              "(79, 32, 32, 3)"
            ]
          },
          "metadata": {},
          "execution_count": 8
        }
      ],
      "source": [
        "random_images.shape"
      ]
    },
    {
      "cell_type": "code",
      "execution_count": 9,
      "metadata": {
        "id": "QtbB9SQA-dKC"
      },
      "outputs": [],
      "source": [
        "directory_path = '/content/resume'\n",
        "\n",
        "image_arrays = []  # List to store image arrays\n",
        "\n",
        "# Iterating through the directory\n",
        "for filename in os.listdir(directory_path):\n",
        "    if filename.endswith(\".jpg\") or filename.endswith(\".png\"):\n",
        "        img_path = os.path.join(directory_path, filename)\n",
        "        img = Image.open(img_path)\n",
        "        img_array = np.array(img)\n",
        "        image_arrays.append(img_array)\n"
      ]
    },
    {
      "cell_type": "code",
      "execution_count": 10,
      "metadata": {
        "colab": {
          "base_uri": "https://localhost:8080/"
        },
        "id": "xuPJMmlqDHXq",
        "outputId": "69066690-242a-4d7d-917d-057f4d71df63"
      },
      "outputs": [
        {
          "output_type": "execute_result",
          "data": {
            "text/plain": [
              "list"
            ]
          },
          "metadata": {},
          "execution_count": 10
        }
      ],
      "source": [
        "type(image_arrays)"
      ]
    },
    {
      "cell_type": "code",
      "execution_count": 11,
      "metadata": {
        "id": "5_F5vuCJ-dRR"
      },
      "outputs": [],
      "source": [
        "labels=[1 for x in image_arrays]\n",
        "y2=[0 for x in random_images]"
      ]
    },
    {
      "cell_type": "code",
      "execution_count": 12,
      "metadata": {
        "id": "rZx2s4F3-dUt"
      },
      "outputs": [],
      "source": [
        "for i in y2:\n",
        "  labels.append(i)"
      ]
    },
    {
      "cell_type": "code",
      "execution_count": 13,
      "metadata": {
        "id": "GgoZMwZgBXdc"
      },
      "outputs": [],
      "source": [
        "for i in random_images:\n",
        "  image_arrays.append(i)\n",
        "\n",
        "image_arrays=np.array(image_arrays,dtype='object')\n"
      ]
    },
    {
      "cell_type": "code",
      "execution_count": 14,
      "metadata": {
        "colab": {
          "base_uri": "https://localhost:8080/"
        },
        "id": "gUmNKVVDBrl8",
        "outputId": "35d4ad21-d0eb-4893-ba09-6858ee0763dc"
      },
      "outputs": [
        {
          "output_type": "execute_result",
          "data": {
            "text/plain": [
              "(156,)"
            ]
          },
          "metadata": {},
          "execution_count": 14
        }
      ],
      "source": [
        "image_arrays.shape"
      ]
    },
    {
      "cell_type": "code",
      "execution_count": 15,
      "metadata": {
        "id": "Vucuu-okDoBa"
      },
      "outputs": [],
      "source": [
        "def preprocess(images,target_size = (224, 224)):\n",
        "\n",
        "  processed_images = [cv2.resize(img, target_size) for img in images]\n",
        "  processed_images = np.array(processed_images) / 255.0\n",
        "\n",
        "  return processed_images"
      ]
    },
    {
      "cell_type": "code",
      "execution_count": 16,
      "metadata": {
        "id": "5S2sU2zeEtlj"
      },
      "outputs": [],
      "source": [
        "processed_images=preprocess(image_arrays)"
      ]
    },
    {
      "cell_type": "code",
      "source": [
        "from sklearn.utils import shuffle\n",
        "# Shuffling images and labels together\n",
        "processed_images, labels = shuffle(processed_images, labels)\n"
      ],
      "metadata": {
        "id": "R7OIVWCuHIhB"
      },
      "execution_count": 17,
      "outputs": []
    },
    {
      "cell_type": "code",
      "execution_count": 18,
      "metadata": {
        "id": "Y8Iv9fLXuWPM"
      },
      "outputs": [],
      "source": [
        "train_images, val_images, train_labels, val_labels = train_test_split(processed_images, labels, test_size=0.15, random_state=42)\n",
        "\n",
        "# Ensure shapes for compatibility with the model\n",
        "train_images = np.array(train_images)\n",
        "val_images = np.array(val_images)\n",
        "train_labels = np.array(train_labels)\n",
        "val_labels = np.array(val_labels)"
      ]
    },
    {
      "cell_type": "code",
      "source": [
        "train_labels = tf.cast(train_labels, dtype=tf.float32)\n",
        "val_labels = tf.cast(val_labels, dtype=tf.float32)"
      ],
      "metadata": {
        "id": "AyRPrkC3JTHB"
      },
      "execution_count": 19,
      "outputs": []
    },
    {
      "cell_type": "code",
      "execution_count": 20,
      "metadata": {
        "id": "6CdSGN5rEzHZ"
      },
      "outputs": [],
      "source": [
        "import tensorflow as tf\n",
        "from tensorflow.keras.preprocessing.image import ImageDataGenerator\n",
        "from tensorflow.keras.applications import MobileNetV2\n",
        "from tensorflow.keras.layers import Dense, GlobalAveragePooling2D,Dropout, Conv2D, MaxPooling2D, Flatten\n",
        "from tensorflow.keras.models import Model\n",
        "from tensorflow.keras.optimizers import Adam\n",
        "from tensorflow.keras.metrics import Precision, Recall, BinaryAccuracy, F1Score\n",
        "from tensorflow.keras.models import Sequential\n",
        "from tensorflow.keras.layers import Conv2D, MaxPooling2D, Flatten, Dense, Dropout"
      ]
    },
    {
      "cell_type": "code",
      "source": [
        "model = Sequential([\n",
        "    Conv2D(32, (3, 3), activation='relu', input_shape=(224, 224, 3)),\n",
        "    MaxPooling2D((2, 2)),\n",
        "    Conv2D(64, (3, 3), activation='relu'),\n",
        "    MaxPooling2D((2, 2)),\n",
        "    Conv2D(128, (3, 3), activation='relu'),\n",
        "    MaxPooling2D((2, 2)),\n",
        "    Flatten(),\n",
        "    Dense(128, activation='relu'),\n",
        "    Dropout(0.5),\n",
        "    Dense(1, activation='sigmoid')\n",
        "])\n",
        "\n",
        "\n",
        "model.compile(optimizer='adam', loss='binary_crossentropy', metrics=['accuracy', Precision(), Recall(), F1Score()])\n"
      ],
      "metadata": {
        "id": "fxgrAwpv5oN6"
      },
      "execution_count": 21,
      "outputs": []
    },
    {
      "cell_type": "code",
      "execution_count": 22,
      "metadata": {
        "id": "HKnNOCOStUgL",
        "colab": {
          "base_uri": "https://localhost:8080/"
        },
        "outputId": "3306da66-6a7c-462c-ea78-ee5780d63354"
      },
      "outputs": [
        {
          "output_type": "stream",
          "name": "stdout",
          "text": [
            "Epoch 1/10\n",
            "4/4 [==============================] - 20s 5s/step - loss: 2.1406 - accuracy: 0.4956 - precision: 0.5000 - recall: 0.5965 - f1_score: 0.6706 - val_loss: 0.8164 - val_accuracy: 0.3333 - val_precision: 0.3333 - val_recall: 1.0000 - val_f1_score: 0.5000\n",
            "Epoch 2/10\n",
            "4/4 [==============================] - 14s 4s/step - loss: 0.6626 - accuracy: 0.6549 - precision: 0.6452 - recall: 0.7018 - f1_score: 0.6706 - val_loss: 0.6099 - val_accuracy: 1.0000 - val_precision: 1.0000 - val_recall: 1.0000 - val_f1_score: 0.5000\n",
            "Epoch 3/10\n",
            "4/4 [==============================] - 14s 3s/step - loss: 0.6148 - accuracy: 0.6903 - precision: 0.6774 - recall: 0.7368 - f1_score: 0.6706 - val_loss: 0.5029 - val_accuracy: 0.6667 - val_precision: 0.0000e+00 - val_recall: 0.0000e+00 - val_f1_score: 0.5000\n",
            "Epoch 4/10\n",
            "4/4 [==============================] - 13s 4s/step - loss: 0.5365 - accuracy: 0.7611 - precision: 0.7143 - recall: 0.8772 - f1_score: 0.6706 - val_loss: 0.2903 - val_accuracy: 1.0000 - val_precision: 1.0000 - val_recall: 1.0000 - val_f1_score: 0.5000\n",
            "Epoch 5/10\n",
            "4/4 [==============================] - 16s 3s/step - loss: 0.5603 - accuracy: 0.6814 - precision: 0.6909 - recall: 0.6667 - f1_score: 0.6706 - val_loss: 0.2928 - val_accuracy: 1.0000 - val_precision: 1.0000 - val_recall: 1.0000 - val_f1_score: 0.5000\n",
            "Epoch 6/10\n",
            "4/4 [==============================] - 14s 4s/step - loss: 0.4003 - accuracy: 0.8496 - precision: 0.7778 - recall: 0.9825 - f1_score: 0.6706 - val_loss: 0.2035 - val_accuracy: 1.0000 - val_precision: 1.0000 - val_recall: 1.0000 - val_f1_score: 0.5000\n",
            "Epoch 7/10\n",
            "4/4 [==============================] - 14s 3s/step - loss: 0.3265 - accuracy: 0.8850 - precision: 0.8333 - recall: 0.9649 - f1_score: 0.6706 - val_loss: 0.0639 - val_accuracy: 1.0000 - val_precision: 1.0000 - val_recall: 1.0000 - val_f1_score: 0.5000\n",
            "Epoch 8/10\n",
            "4/4 [==============================] - 14s 3s/step - loss: 0.2179 - accuracy: 0.9292 - precision: 0.9016 - recall: 0.9649 - f1_score: 0.6706 - val_loss: 0.0441 - val_accuracy: 1.0000 - val_precision: 1.0000 - val_recall: 1.0000 - val_f1_score: 0.5000\n",
            "Epoch 9/10\n",
            "4/4 [==============================] - 13s 3s/step - loss: 0.3081 - accuracy: 0.9027 - precision: 0.8966 - recall: 0.9123 - f1_score: 0.6706 - val_loss: 0.0344 - val_accuracy: 1.0000 - val_precision: 1.0000 - val_recall: 1.0000 - val_f1_score: 0.5000\n",
            "Epoch 10/10\n",
            "4/4 [==============================] - 13s 3s/step - loss: 0.2120 - accuracy: 0.8938 - precision: 0.8261 - recall: 1.0000 - f1_score: 0.6706 - val_loss: 0.0238 - val_accuracy: 1.0000 - val_precision: 1.0000 - val_recall: 1.0000 - val_f1_score: 0.5000\n"
          ]
        },
        {
          "output_type": "execute_result",
          "data": {
            "text/plain": [
              "<keras.src.callbacks.History at 0x7ca49c309a20>"
            ]
          },
          "metadata": {},
          "execution_count": 22
        }
      ],
      "source": [
        "batch_size = 32\n",
        "\n",
        "datagen = ImageDataGenerator(\n",
        "    rotation_range=20,\n",
        "    width_shift_range=0.2,\n",
        "    height_shift_range=0.2,\n",
        "    horizontal_flip=True,\n",
        "    validation_split=0.15  #\n",
        ")\n",
        "\n",
        "# Preparing data generators\n",
        "train_generator = datagen.flow(train_images, train_labels, batch_size=batch_size, subset='training')\n",
        "val_generator = datagen.flow(val_images, val_labels, batch_size=batch_size, subset='validation')\n",
        "\n",
        "\n",
        "# Training the model using the generators\n",
        "model.fit(train_generator,  epochs=10, validation_data=val_generator, batch_size=batch_size)\n",
        "\n"
      ]
    },
    {
      "cell_type": "code",
      "execution_count": 23,
      "metadata": {
        "id": "dWqxPMEzvXA2"
      },
      "outputs": [],
      "source": [
        "imgtest=[]\n",
        "img=cv2.imread('/content/ext/cute-baby-animals-1558535060.jpg')\n",
        "imgtest.append(img)\n",
        "\n",
        "\n",
        "\n",
        "imgtest=np.array(imgtest)\n",
        "test=preprocess(imgtest)"
      ]
    },
    {
      "cell_type": "code",
      "execution_count": 24,
      "metadata": {
        "colab": {
          "base_uri": "https://localhost:8080/"
        },
        "id": "4Ny8wPHcygAP",
        "outputId": "b061fdfe-d0ce-405d-f505-648420842f9d"
      },
      "outputs": [
        {
          "output_type": "execute_result",
          "data": {
            "text/plain": [
              "(1, 224, 224, 3)"
            ]
          },
          "metadata": {},
          "execution_count": 24
        }
      ],
      "source": [
        "test.shape"
      ]
    },
    {
      "cell_type": "code",
      "execution_count": 25,
      "metadata": {
        "colab": {
          "base_uri": "https://localhost:8080/"
        },
        "id": "dMgsAfCyx2Qk",
        "outputId": "a8e833e8-a79d-4b50-98af-d950e954aff2"
      },
      "outputs": [
        {
          "output_type": "stream",
          "name": "stdout",
          "text": [
            "1/1 [==============================] - 0s 140ms/step\n",
            "[[0.15470485]]\n",
            "The predicted class is: Non-Resume\n"
          ]
        }
      ],
      "source": [
        "prediction = model.predict(test)  # Make predictions\n",
        "predicted_class = \"Resume\" if prediction > 0.5 else \"Non-Resume\"  # Assuming binary classification with threshold 0.5\n",
        "\n",
        "print(prediction)\n",
        "print(f\"The predicted class is: {predicted_class}\")"
      ]
    }
  ],
  "metadata": {
    "colab": {
      "provenance": [],
      "authorship_tag": "ABX9TyOOxpIOQgpkPrb6K4JZPgaT",
      "include_colab_link": true
    },
    "kernelspec": {
      "display_name": "Python 3",
      "name": "python3"
    },
    "language_info": {
      "name": "python"
    }
  },
  "nbformat": 4,
  "nbformat_minor": 0
}